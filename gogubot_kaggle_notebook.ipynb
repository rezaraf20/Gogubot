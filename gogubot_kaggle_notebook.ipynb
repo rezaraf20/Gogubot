{
 "cells": [
  {
   "cell_type": "markdown",
   "id": "43eda2f1",
   "metadata": {},
   "source": [
    "# Gogubot - The Google Services Assistant\n",
    "\n",
    "This notebook demonstrates a simple RAG-based chatbot that helps users understand and use Google services (Docs, Gmail, Calendar, Drive, etc.) using Gemini Embeddings + FAISS."
   ]
  },
  {
   "cell_type": "code",
   "execution_count": null,
   "id": "87bb7627",
   "metadata": {},
   "outputs": [],
   "source": [
    "!pip install -q faiss-cpu google-generativeai"
   ]
  },
  {
   "cell_type": "code",
   "execution_count": null,
   "id": "7489d5b5",
   "metadata": {},
   "outputs": [],
   "source": [
    "from kaggle_secrets import UserSecretsClient\n",
    "import os\n",
    "\n",
    "GOOGLE_API_KEY = UserSecretsClient().get_secret(\"GOOGLE_API_KEY\")\n",
    "os.environ[\"GOOGLE_API_KEY\"] = GOOGLE_API_KEY"
   ]
  },
  {
   "cell_type": "code",
   "execution_count": null,
   "id": "50e96d9f",
   "metadata": {},
   "outputs": [],
   "source": [
    "import json\n",
    "import google.generativeai as genai\n",
    "\n",
    "genai.configure(api_key=GOOGLE_API_KEY)\n",
    "\n",
    "with open(\"/kaggle/input/google-help-data-extended/google_help_data.json\", \"r\") as f:\n",
    "    data = json.load(f)"
   ]
  },
  {
   "cell_type": "code",
   "execution_count": null,
   "id": "65a393e7",
   "metadata": {},
   "outputs": [],
   "source": [
    "embeddings = []\n",
    "for entry in data:\n",
    "    res = genai.embed_content(\n",
    "        model=\"models/embedding-001\",\n",
    "        content=entry[\"content\"],\n",
    "        task_type=\"retrieval_document\"\n",
    "    )\n",
    "    entry[\"embedding\"] = res[\"embedding\"]\n",
    "    embeddings.append(res[\"embedding\"])"
   ]
  },
  {
   "cell_type": "code",
   "execution_count": null,
   "id": "c6d2e281",
   "metadata": {},
   "outputs": [],
   "source": [
    "import faiss\n",
    "import numpy as np\n",
    "\n",
    "index = faiss.IndexFlatL2(len(embeddings[0]))\n",
    "index.add(np.array(embeddings))"
   ]
  },
  {
   "cell_type": "code",
   "execution_count": null,
   "id": "92882777",
   "metadata": {},
   "outputs": [],
   "source": [
    "def answer_question(query, k=1):\n",
    "    res = genai.embed_content(\n",
    "        model=\"models/embedding-001\",\n",
    "        content=query,\n",
    "        task_type=\"retrieval_query\"\n",
    "    )\n",
    "    query_vector = np.array([res[\"embedding\"]])\n",
    "    D, I = index.search(query_vector, k)\n",
    "    \n",
    "    for i in I[0]:\n",
    "        matched = data[i]\n",
    "        print(f\"{matched['title']} ({matched['service']})\\n{matched['content']}\\n\")"
   ]
  },
  {
   "cell_type": "code",
   "execution_count": null,
   "id": "d435e650",
   "metadata": {},
   "outputs": [],
   "source": [
    "answer_question(\"How do I share a Google Doc?\")"
   ]
  },
  {
   "cell_type": "markdown",
   "id": "ff3e0e18",
   "metadata": {},
   "source": [
    "## Summary\n",
    "\n",
    "Gogubot shows how LLM embeddings + vector search can build an intelligent assistant over static help content.\n",
    "\n",
    "**Next steps:** Add Gradio UI, generate answers using Gemini, multi-lingual support."
   ]
  }
 ],
 "metadata": {
  "language_info": {
   "name": "python"
  }
 },
 "nbformat": 4,
 "nbformat_minor": 5
}
